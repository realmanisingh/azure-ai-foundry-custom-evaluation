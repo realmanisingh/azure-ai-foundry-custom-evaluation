{
 "cells": [
  {
   "cell_type": "markdown",
   "metadata": {},
   "source": [
    "# Evaluation Metrics\n",
    "Calculate evaluation metrics for the Answer Length and Neutrality custom evaluators. Models used for the Neutrality evaluator are gpt-4o and gpt-4o-mini."
   ]
  },
  {
   "cell_type": "markdown",
   "metadata": {},
   "source": [
    "#### Import libraries"
   ]
  },
  {
   "cell_type": "code",
   "execution_count": 1,
   "metadata": {},
   "outputs": [],
   "source": [
    "import pandas as pd"
   ]
  },
  {
   "cell_type": "markdown",
   "metadata": {},
   "source": [
    "#### Load evaluation results"
   ]
  },
  {
   "cell_type": "code",
   "execution_count": 3,
   "metadata": {},
   "outputs": [],
   "source": [
    "df_test = pd.read_csv('C:/Users/simani/OneDrive - Microsoft/Desktop/azure-ai-evaluation/data/full_evaluation_data.csv')\n",
    "df_eval_gpt4o = pd.read_csv('C:/Users/simani/OneDrive - Microsoft/Desktop/azure-ai-evaluation/data/gpt_4o_eval_results.csv')\n",
    "df_eval_gpt4o_mini = pd.read_csv('C:/Users/simani/OneDrive - Microsoft/Desktop/azure-ai-evaluation/data/gpt_4o_mini_eval_results.csv')"
   ]
  },
  {
   "cell_type": "markdown",
   "metadata": {},
   "source": [
    "#### Calculate accuracy for GPT-4o"
   ]
  },
  {
   "cell_type": "code",
   "execution_count": 4,
   "metadata": {
    "vscode": {
     "languageId": "ruby"
    }
   },
   "outputs": [
    {
     "name": "stdout",
     "output_type": "stream",
     "text": [
      "Accuracy of GPT-4o model: 1.00\n"
     ]
    }
   ],
   "source": [
    "correct_predictions = (df_eval_gpt4o['outputs.neutrality.score'] == df_test['score']).sum()\n",
    "total_predictions = df_eval_gpt4o.shape[0]\n",
    "accuracy = correct_predictions / total_predictions\n",
    "\n",
    "print(f\"Accuracy of GPT-4o model: {accuracy:.2f}\")"
   ]
  },
  {
   "cell_type": "markdown",
   "metadata": {},
   "source": [
    "#### Calculate accuracy for GPT-4o-Mini"
   ]
  },
  {
   "cell_type": "code",
   "execution_count": 5,
   "metadata": {},
   "outputs": [
    {
     "name": "stdout",
     "output_type": "stream",
     "text": [
      "Accuracy of GPT-4o-mini model: 1.00\n"
     ]
    }
   ],
   "source": [
    "correct_predictions = (df_eval_gpt4o_mini['outputs.neutrality.score'] == df_test['score']).sum()\n",
    "total_predictions = df_eval_gpt4o.shape[0]\n",
    "accuracy = correct_predictions / total_predictions\n",
    "\n",
    "print(f\"Accuracy of GPT-4o-mini model: {accuracy:.2f}\")"
   ]
  }
 ],
 "metadata": {
  "kernelspec": {
   "display_name": "env311",
   "language": "python",
   "name": "python3"
  },
  "language_info": {
   "codemirror_mode": {
    "name": "ipython",
    "version": 3
   },
   "file_extension": ".py",
   "mimetype": "text/x-python",
   "name": "python",
   "nbconvert_exporter": "python",
   "pygments_lexer": "ipython3",
   "version": "3.11.9"
  }
 },
 "nbformat": 4,
 "nbformat_minor": 2
}
